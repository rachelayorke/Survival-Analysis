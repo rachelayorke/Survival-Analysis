{
 "cells": [
  {
   "cell_type": "code",
   "execution_count": null,
   "metadata": {},
   "outputs": [
    {
     "name": "stdout",
     "output_type": "stream",
     "text": [
      "<class 'pandas.core.frame.DataFrame'>\n",
      "RangeIndex: 3346 entries, 0 to 3345\n",
      "Data columns (total 35 columns):\n",
      " #   Column             Non-Null Count  Dtype         \n",
      "---  ------             --------------  -----         \n",
      " 0   patient_id         3346 non-null   object        \n",
      " 1   Age                3346 non-null   float64       \n",
      " 2   Sex                3346 non-null   object        \n",
      " 3   ECOG PS            3345 non-null   object        \n",
      " 4   Smoking PY         3341 non-null   object        \n",
      " 5   Smoking Status     3346 non-null   object        \n",
      " 6   Ds Site            3346 non-null   object        \n",
      " 7   Subsite            2972 non-null   object        \n",
      " 8   T                  3334 non-null   object        \n",
      " 9   N                  3333 non-null   object        \n",
      " 10  M                  3332 non-null   object        \n",
      " 11  Stage              3319 non-null   object        \n",
      " 12  Path               3346 non-null   object        \n",
      " 13  HPV                1717 non-null   object        \n",
      " 14  Tx Modality        3346 non-null   object        \n",
      " 15  Chemo              3346 non-null   object        \n",
      " 16  RT Start           3346 non-null   datetime64[ns]\n",
      " 17  Dose               3346 non-null   float64       \n",
      " 18  Fx                 3346 non-null   int64         \n",
      " 19  Last FU            3346 non-null   datetime64[ns]\n",
      " 20  Status             3346 non-null   object        \n",
      " 21  Length FU          3346 non-null   float64       \n",
      " 22  Date of Death      1058 non-null   datetime64[ns]\n",
      " 23  Cause of Death     1052 non-null   object        \n",
      " 24  Local              380 non-null    object        \n",
      " 25  Date Local         380 non-null    datetime64[ns]\n",
      " 26  Regional           189 non-null    object        \n",
      " 27  Date Regional      189 non-null    datetime64[ns]\n",
      " 28  Distant            413 non-null    object        \n",
      " 29  Date Distant       413 non-null    datetime64[ns]\n",
      " 30  2nd Ca             441 non-null    object        \n",
      " 31  Date 2nd Ca        439 non-null    datetime64[ns]\n",
      " 32  RADCURE-challenge  3346 non-null   object        \n",
      " 33  ContrastEnhanced   3346 non-null   int64         \n",
      " 34  Event              3346 non-null   int64         \n",
      "dtypes: datetime64[ns](7), float64(3), int64(3), object(22)\n",
      "memory usage: 915.1+ KB\n"
     ]
    },
    {
     "data": {
      "text/plain": [
       "patient_id              0\n",
       "Age                     0\n",
       "Sex                     0\n",
       "ECOG PS                 1\n",
       "Smoking PY              5\n",
       "Smoking Status          0\n",
       "Ds Site                 0\n",
       "Subsite               374\n",
       "T                      12\n",
       "N                      13\n",
       "M                      14\n",
       "Stage                  27\n",
       "Path                    0\n",
       "HPV                  1629\n",
       "Tx Modality             0\n",
       "Chemo                   0\n",
       "RT Start                0\n",
       "Dose                    0\n",
       "Fx                      0\n",
       "Last FU                 0\n",
       "Status                  0\n",
       "Length FU               0\n",
       "Date of Death        2288\n",
       "Cause of Death       2294\n",
       "Local                2966\n",
       "Date Local           2966\n",
       "Regional             3157\n",
       "Date Regional        3157\n",
       "Distant              2933\n",
       "Date Distant         2933\n",
       "2nd Ca               2905\n",
       "Date 2nd Ca          2907\n",
       "RADCURE-challenge       0\n",
       "ContrastEnhanced        0\n",
       "Event                   0\n",
       "dtype: int64"
      ]
     },
     "execution_count": 6,
     "metadata": {},
     "output_type": "execute_result"
    }
   ],
   "source": [
    "import pandas as pd\n",
    "from lifelines import KaplanMeierFitter\n",
    "from lifelines.statistics import logrank_test\n",
    "import matplotlib.pyplot as plt\n",
    "\n",
    "# Read in data\n",
    "clinical = pd.read_excel('../Data/RADCURE_Clinical_v04_20241219.xlsx')\n",
    "\n",
    "# Convert status to binary\n",
    "clinical['Event'] = clinical['Status'].map({'Dead': 1, 'Alive': 0})\n",
    "\n",
    "# Fit Kaplan-Meier Estimator \n",
    "kmf = KaplanMeierFitter()\n",
    "kmf.fit(clinical['Length FU'], event_observed=clinical['Event'])\n",
    "\n"
   ]
  }
 ],
 "metadata": {
  "kernelspec": {
   "display_name": "default",
   "language": "python",
   "name": "python3"
  },
  "language_info": {
   "codemirror_mode": {
    "name": "ipython",
    "version": 3
   },
   "file_extension": ".py",
   "mimetype": "text/x-python",
   "name": "python",
   "nbconvert_exporter": "python",
   "pygments_lexer": "ipython3",
   "version": "3.13.1"
  }
 },
 "nbformat": 4,
 "nbformat_minor": 2
}
